{
  "nbformat": 4,
  "nbformat_minor": 0,
  "metadata": {
    "colab": {
      "provenance": []
    },
    "kernelspec": {
      "name": "python3",
      "display_name": "Python 3"
    }
  },
  "cells": [
    {
      "cell_type": "code",
      "source": [
        "#Importing the libraries\n",
        "import numpy as np\n",
        "import matplotlib.pyplot as plt\n",
        "import pandas as pd"
      ],
      "metadata": {
        "id": "JuIL3GLOxCrI"
      },
      "execution_count": 29,
      "outputs": []
    },
    {
      "cell_type": "code",
      "source": [
        "#importing the dataset\n",
        "dataset = pd.read_csv('car data.csv')\n",
        "X = dataset.drop(['Selling_Price','Car_Name'],axis=1).values\n",
        "y = dataset['Selling_Price'].values"
      ],
      "metadata": {
        "id": "Pvy2wrKzxJWE"
      },
      "execution_count": 6,
      "outputs": []
    },
    {
      "cell_type": "code",
      "source": [
        "X"
      ],
      "metadata": {
        "colab": {
          "base_uri": "https://localhost:8080/"
        },
        "id": "n11E9bWbzPoi",
        "outputId": "5e0ee838-0602-445e-d967-88e64fa51993"
      },
      "execution_count": 11,
      "outputs": [
        {
          "output_type": "execute_result",
          "data": {
            "text/plain": [
              "array([[2014, 5.59, 27000, ..., 'Dealer', 'Manual', 0],\n",
              "       [2013, 9.54, 43000, ..., 'Dealer', 'Manual', 0],\n",
              "       [2017, 9.85, 6900, ..., 'Dealer', 'Manual', 0],\n",
              "       ...,\n",
              "       [2009, 11.0, 87934, ..., 'Dealer', 'Manual', 0],\n",
              "       [2017, 12.5, 9000, ..., 'Dealer', 'Manual', 0],\n",
              "       [2016, 5.9, 5464, ..., 'Dealer', 'Manual', 0]], dtype=object)"
            ]
          },
          "metadata": {},
          "execution_count": 11
        }
      ]
    },
    {
      "cell_type": "code",
      "source": [
        "#Encoding the Independent Variables\n",
        "from sklearn.compose import ColumnTransformer\n",
        "from sklearn.preprocessing import OneHotEncoder\n",
        "ct = ColumnTransformer(transformers=[('encoder', OneHotEncoder(), [3,4,5])], remainder='passthrough')\n",
        "X = np.array(ct.fit_transform(X))"
      ],
      "metadata": {
        "id": "XFCtgAewyWws"
      },
      "execution_count": 12,
      "outputs": []
    },
    {
      "cell_type": "code",
      "source": [
        "#Checking the encoding\n",
        "print(X[1])"
      ],
      "metadata": {
        "colab": {
          "base_uri": "https://localhost:8080/"
        },
        "id": "m6DRy81P08uO",
        "outputId": "e7f0859d-f478-4976-a35b-24593db7d928"
      },
      "execution_count": 24,
      "outputs": [
        {
          "output_type": "stream",
          "name": "stdout",
          "text": [
            "[0.0 1.0 0.0 1.0 0.0 0.0 1.0 2013 9.54 43000 0]\n"
          ]
        }
      ]
    },
    {
      "cell_type": "code",
      "source": [
        "# For Fuel_Type\n",
        "# -> Petrol = [0,0,1]\n",
        "# -> Diesel = [0,1,0]\n",
        "# -> LPG = [1,0,0]\n",
        "\n",
        "# For Seller_Type\n",
        "# -> Dealer = [1,0]\n",
        "# -> Individual = [0,1]\n",
        "\n",
        "# For Transmission\n",
        "# -> Manual = [0,1]\n",
        "# -> Automatic = [1,0]"
      ],
      "metadata": {
        "id": "ccIYMS4c2s-w"
      },
      "execution_count": null,
      "outputs": []
    },
    {
      "cell_type": "code",
      "source": [
        "X"
      ],
      "metadata": {
        "colab": {
          "base_uri": "https://localhost:8080/"
        },
        "id": "sP7lutXPzdiL",
        "outputId": "7d220b50-c0e4-46e7-b711-c91a82906b0e"
      },
      "execution_count": 13,
      "outputs": [
        {
          "output_type": "execute_result",
          "data": {
            "text/plain": [
              "array([[0.0, 0.0, 1.0, ..., 5.59, 27000, 0],\n",
              "       [0.0, 1.0, 0.0, ..., 9.54, 43000, 0],\n",
              "       [0.0, 0.0, 1.0, ..., 9.85, 6900, 0],\n",
              "       ...,\n",
              "       [0.0, 0.0, 1.0, ..., 11.0, 87934, 0],\n",
              "       [0.0, 1.0, 0.0, ..., 12.5, 9000, 0],\n",
              "       [0.0, 0.0, 1.0, ..., 5.9, 5464, 0]], dtype=object)"
            ]
          },
          "metadata": {},
          "execution_count": 13
        }
      ]
    },
    {
      "cell_type": "code",
      "source": [
        "# Applying Random Forest Regression Model\n",
        "from sklearn.ensemble import RandomForestRegressor\n",
        "regressor = RandomForestRegressor(n_estimators = 10, random_state = 0)\n",
        "prediction=regressor.fit(X, y)"
      ],
      "metadata": {
        "id": "TfHJnY6YzjVT"
      },
      "execution_count": 16,
      "outputs": []
    },
    {
      "cell_type": "code",
      "source": [
        "#Calculating the r2 score\n",
        "from sklearn.metrics import r2_score\n",
        "print(r2_score(y,regressor.predict(X)))"
      ],
      "metadata": {
        "colab": {
          "base_uri": "https://localhost:8080/"
        },
        "id": "ovfAiVrxzvWJ",
        "outputId": "ae718d2b-b2f7-42ed-9f9c-0b02de9c3c19"
      },
      "execution_count": 28,
      "outputs": [
        {
          "output_type": "stream",
          "name": "stdout",
          "text": [
            "0.9742407626332721\n"
          ]
        }
      ]
    },
    {
      "cell_type": "code",
      "source": [
        "#Predicting for:\n",
        "# Year= 2015, Present_Price=8.12, Kms_Driven=19000, Owner=0, Fuel_Type=Petrol, Seller_Type= Dealer, Transmission= Manual\n",
        "\n",
        "regressor.predict([[0.0,0.0,1.0,1.0,0.0,0.0,1.0,2015,8.12,19000,0]])"
      ],
      "metadata": {
        "colab": {
          "base_uri": "https://localhost:8080/"
        },
        "id": "LGt7lwSL0cej",
        "outputId": "f036ff68-9fb6-4b29-a56a-779aeb81d055"
      },
      "execution_count": 26,
      "outputs": [
        {
          "output_type": "execute_result",
          "data": {
            "text/plain": [
              "array([6.435])"
            ]
          },
          "metadata": {},
          "execution_count": 26
        }
      ]
    }
  ]
}